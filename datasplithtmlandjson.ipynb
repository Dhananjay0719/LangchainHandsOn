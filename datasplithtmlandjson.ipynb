{
 "cells": [
  {
   "cell_type": "markdown",
   "id": "22bd9a98",
   "metadata": {},
   "source": [
    "HTML DATA SPLIT"
   ]
  },
  {
   "cell_type": "code",
   "execution_count": 1,
   "id": "c0104a7c",
   "metadata": {},
   "outputs": [],
   "source": [
    "from langchain_text_splitters import HTMLHeaderTextSplitter"
   ]
  },
  {
   "cell_type": "markdown",
   "id": "b711dbb5",
   "metadata": {},
   "source": []
  },
  {
   "cell_type": "code",
   "execution_count": 2,
   "id": "f793c30a",
   "metadata": {},
   "outputs": [],
   "source": [
    "htmldummystring=\"\"\"\n",
    "<html>\n",
    "  <head>\n",
    "    <title>LangChain Dummy HTML</title>\n",
    "  </head>\n",
    "  <body>\n",
    "    <h1>Introduction to LangChain</h1>\n",
    "    <p>LangChain is a framework for building applications powered by large language models (LLMs).</p>\n",
    "    \n",
    "    <h2>Key Features</h2>\n",
    "    <ul>\n",
    "      <li>Prompt Management</li>\n",
    "      <li>Document Loaders</li>\n",
    "      <li>Text Splitters</li>\n",
    "      <li>Memory</li>\n",
    "    </ul>\n",
    "    \n",
    "    <h2>Use Cases</h2>\n",
    "    <p>LangChain is used for building chatbots, RAG pipelines, and workflow automation.</p>\n",
    "    \n",
    "    <h3>Chatbots</h3>\n",
    "    <p>Chatbots can leverage LangChain to provide context-aware responses.</p>\n",
    "    \n",
    "    <h3>RAG (Retrieval Augmented Generation)</h3>\n",
    "    <p>RAG helps LLMs answer domain-specific questions by retrieving information from documents.</p>\n",
    "  </body>\n",
    "</html>\n",
    "\"\"\"\n"
   ]
  },
  {
   "cell_type": "code",
   "execution_count": 6,
   "id": "19cfea62",
   "metadata": {},
   "outputs": [],
   "source": [
    "headerstosplit=[\n",
    "    (\"h1\",\"Header 1\"),\n",
    "    (\"h2\",\"Header 2\"),\n",
    "    (\"h3\",\"Header 3\")\n",
    "]"
   ]
  },
  {
   "cell_type": "code",
   "execution_count": 7,
   "id": "b191d214",
   "metadata": {},
   "outputs": [],
   "source": [
    "htmlsplitter=HTMLHeaderTextSplitter(headerstosplit)"
   ]
  },
  {
   "cell_type": "code",
   "execution_count": null,
   "id": "75d1be3d",
   "metadata": {},
   "outputs": [],
   "source": [
    "splittedtext=htmlsplitter.split_text(htmldummystring)    #if url use split_text_from_url(url)"
   ]
  },
  {
   "cell_type": "code",
   "execution_count": 9,
   "id": "1c844396",
   "metadata": {},
   "outputs": [
    {
     "data": {
      "text/plain": [
       "[Document(metadata={'Header 1': 'Introduction to LangChain'}, page_content='Introduction to LangChain'),\n",
       " Document(metadata={'Header 1': 'Introduction to LangChain'}, page_content='LangChain is a framework for building applications powered by large language models (LLMs).'),\n",
       " Document(metadata={'Header 1': 'Introduction to LangChain', 'Header 2': 'Key Features'}, page_content='Key Features'),\n",
       " Document(metadata={'Header 1': 'Introduction to LangChain', 'Header 2': 'Key Features'}, page_content='Prompt Management  \\nDocument Loaders  \\nText Splitters  \\nMemory'),\n",
       " Document(metadata={'Header 1': 'Introduction to LangChain', 'Header 2': 'Use Cases'}, page_content='Use Cases'),\n",
       " Document(metadata={'Header 1': 'Introduction to LangChain', 'Header 2': 'Use Cases'}, page_content='LangChain is used for building chatbots, RAG pipelines, and workflow automation.'),\n",
       " Document(metadata={'Header 1': 'Introduction to LangChain', 'Header 2': 'Use Cases', 'Header 3': 'Chatbots'}, page_content='Chatbots'),\n",
       " Document(metadata={'Header 1': 'Introduction to LangChain', 'Header 2': 'Use Cases', 'Header 3': 'Chatbots'}, page_content='Chatbots can leverage LangChain to provide context-aware responses.'),\n",
       " Document(metadata={'Header 1': 'Introduction to LangChain', 'Header 2': 'Use Cases', 'Header 3': 'RAG (Retrieval Augmented Generation)'}, page_content='RAG (Retrieval Augmented Generation)'),\n",
       " Document(metadata={'Header 1': 'Introduction to LangChain', 'Header 2': 'Use Cases', 'Header 3': 'RAG (Retrieval Augmented Generation)'}, page_content='RAG helps LLMs answer domain-specific questions by retrieving information from documents.')]"
      ]
     },
     "execution_count": 9,
     "metadata": {},
     "output_type": "execute_result"
    }
   ],
   "source": [
    "splittedtext"
   ]
  },
  {
   "cell_type": "markdown",
   "id": "74b21f9c",
   "metadata": {},
   "source": [
    "JSON DATA SPLIT"
   ]
  },
  {
   "cell_type": "code",
   "execution_count": null,
   "id": "012e7593",
   "metadata": {},
   "outputs": [],
   "source": [
    "import json\n",
    "import requests\n",
    "\n",
    "jsondata=requests.get(\"https://github.com/Dhananjay0719/LangchainHandsOn/blob/main/jsondatasplitusingjsonsplitter.json\").json()"
   ]
  }
 ],
 "metadata": {
  "kernelspec": {
   "display_name": "venv",
   "language": "python",
   "name": "python3"
  },
  "language_info": {
   "codemirror_mode": {
    "name": "ipython",
    "version": 3
   },
   "file_extension": ".py",
   "mimetype": "text/x-python",
   "name": "python",
   "nbconvert_exporter": "python",
   "pygments_lexer": "ipython3",
   "version": "3.10.0"
  }
 },
 "nbformat": 4,
 "nbformat_minor": 5
}
