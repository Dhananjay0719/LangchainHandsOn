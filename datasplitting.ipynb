{
 "cells": [
  {
   "cell_type": "markdown",
   "id": "c859c9ca",
   "metadata": {},
   "source": [
    "SPLITTING STAGE "
   ]
  },
  {
   "cell_type": "code",
   "execution_count": 1,
   "id": "3abaddba",
   "metadata": {},
   "outputs": [],
   "source": [
    "from langchain_community.document_loaders import TextLoader "
   ]
  },
  {
   "cell_type": "code",
   "execution_count": 9,
   "id": "7337af36",
   "metadata": {},
   "outputs": [
    {
     "data": {
      "text/plain": [
       "langchain_core.documents.base.Document"
      ]
     },
     "execution_count": 9,
     "metadata": {},
     "output_type": "execute_result"
    }
   ],
   "source": [
    "loader=TextLoader('dummy_file.txt')\n",
    "textcontent=loader.load()\n",
    "textcontent\n",
    "\n",
    "type(textcontent[0])"
   ]
  },
  {
   "cell_type": "code",
   "execution_count": 4,
   "id": "2579d61b",
   "metadata": {},
   "outputs": [],
   "source": [
    "from langchain_text_splitters import RecursiveCharacterTextSplitter"
   ]
  },
  {
   "cell_type": "code",
   "execution_count": 12,
   "id": "a4e0ab98",
   "metadata": {},
   "outputs": [],
   "source": [
    "txtsplitter=RecursiveCharacterTextSplitter(chunk_size=10,chunk_overlap=2)\n",
    "final_doc=txtsplitter.split_documents(textcontent) #if textcontent is a object or string use create_documents first"
   ]
  },
  {
   "cell_type": "code",
   "execution_count": 13,
   "id": "e5e1325b",
   "metadata": {},
   "outputs": [
    {
     "data": {
      "text/plain": [
       "[Document(metadata={'source': 'dummy_file.txt'}, page_content='This is a'),\n",
       " Document(metadata={'source': 'dummy_file.txt'}, page_content='a dummy'),\n",
       " Document(metadata={'source': 'dummy_file.txt'}, page_content='text'),\n",
       " Document(metadata={'source': 'dummy_file.txt'}, page_content='file.'),\n",
       " Document(metadata={'source': 'dummy_file.txt'}, page_content='It is'),\n",
       " Document(metadata={'source': 'dummy_file.txt'}, page_content='created'),\n",
       " Document(metadata={'source': 'dummy_file.txt'}, page_content='for'),\n",
       " Document(metadata={'source': 'dummy_file.txt'}, page_content='testing'),\n",
       " Document(metadata={'source': 'dummy_file.txt'}, page_content='LangChain'),\n",
       " Document(metadata={'source': 'dummy_file.txt'}, page_content='document'),\n",
       " Document(metadata={'source': 'dummy_file.txt'}, page_content='loaders.'),\n",
       " Document(metadata={'source': 'dummy_file.txt'}, page_content='LangChain'),\n",
       " Document(metadata={'source': 'dummy_file.txt'}, page_content='can load'),\n",
       " Document(metadata={'source': 'dummy_file.txt'}, page_content='and'),\n",
       " Document(metadata={'source': 'dummy_file.txt'}, page_content='process'),\n",
       " Document(metadata={'source': 'dummy_file.txt'}, page_content='text,'),\n",
       " Document(metadata={'source': 'dummy_file.txt'}, page_content='PDF,'),\n",
       " Document(metadata={'source': 'dummy_file.txt'}, page_content='Word, and'),\n",
       " Document(metadata={'source': 'dummy_file.txt'}, page_content='other'),\n",
       " Document(metadata={'source': 'dummy_file.txt'}, page_content='file'),\n",
       " Document(metadata={'source': 'dummy_file.txt'}, page_content='formats.')]"
      ]
     },
     "execution_count": 13,
     "metadata": {},
     "output_type": "execute_result"
    }
   ],
   "source": [
    "final_doc"
   ]
  },
  {
   "cell_type": "code",
   "execution_count": 14,
   "id": "5de22138",
   "metadata": {},
   "outputs": [
    {
     "name": "stdout",
     "output_type": "stream",
     "text": [
      "page_content='This is a' metadata={'source': 'dummy_file.txt'}\n",
      "page_content='a dummy' metadata={'source': 'dummy_file.txt'}\n"
     ]
    }
   ],
   "source": [
    "print(final_doc[0])\n",
    "print(final_doc[1])"
   ]
  },
  {
   "cell_type": "markdown",
   "id": "1fe682f8",
   "metadata": {},
   "source": []
  },
  {
   "cell_type": "code",
   "execution_count": null,
   "id": "67908186",
   "metadata": {},
   "outputs": [],
   "source": [
    "content=\"\"\n",
    "\n",
    "with open(\"dummy_file.txt\") as f:\n",
    "    content=f.read()\n",
    "\n",
    "type(content)"
   ]
  }
 ],
 "metadata": {
  "kernelspec": {
   "display_name": "venv",
   "language": "python",
   "name": "python3"
  },
  "language_info": {
   "codemirror_mode": {
    "name": "ipython",
    "version": 3
   },
   "file_extension": ".py",
   "mimetype": "text/x-python",
   "name": "python",
   "nbconvert_exporter": "python",
   "pygments_lexer": "ipython3",
   "version": "3.10.0"
  }
 },
 "nbformat": 4,
 "nbformat_minor": 5
}
